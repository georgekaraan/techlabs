{
 "cells": [
  {
   "cell_type": "markdown",
   "metadata": {},
   "source": [
    "<img src=\"TechLabs.png\">"
   ]
  },
  {
   "cell_type": "markdown",
   "metadata": {},
   "source": [
    "<h2>Please enter your full name here: George Karaan</h2>"
   ]
  },
  {
   "cell_type": "markdown",
   "metadata": {},
   "source": [
    "\n",
    "<p> This exam will test your knowledge in Data Science. </p>\n",
    "<p> We will test the following: </p>\n",
    "    \n",
    "- Basic knowledge in Data Science\n",
    "- How to manipulate data\n",
    "- How to clean data\n",
    "- Further data analysis"
   ]
  },
  {
   "cell_type": "markdown",
   "metadata": {},
   "source": [
    "<h2>1. Basic Knowledge Test</h2>"
   ]
  },
  {
   "cell_type": "markdown",
   "metadata": {},
   "source": [
    "A) Create a dictionary and a list."
   ]
  },
  {
   "cell_type": "code",
   "execution_count": 1,
   "metadata": {},
   "outputs": [],
   "source": [
    "mydict = {}\n",
    "mylist = []"
   ]
  },
  {
   "cell_type": "markdown",
   "metadata": {},
   "source": [
    "B) Create your own array containing multiple lists (at least 5 rows and 4 columns)."
   ]
  },
  {
   "cell_type": "code",
   "execution_count": 2,
   "metadata": {},
   "outputs": [
    {
     "data": {
      "text/plain": [
       "array([['Name', 'Age', 'Loc', 'Occupation'],\n",
       "       ['George', '30', 'Bcn', 'Engineer'],\n",
       "       ['Andrew', '29', 'NY', 'Financial Analyst'],\n",
       "       ['Steven', '25', 'NY', 'YouTuber'],\n",
       "       ['Henry', '19', 'Bcn', 'Student'],\n",
       "       ['John', '31', 'Bcn', 'Innovator']], dtype='<U17')"
      ]
     },
     "execution_count": 2,
     "metadata": {},
     "output_type": "execute_result"
    }
   ],
   "source": [
    "import numpy as np\n",
    "\n",
    "my_array = np.array([['Name','Age','Loc','Occupation'],['George','30','Bcn','Engineer'],\n",
    "                     ['Andrew','29','NY','Financial Analyst'], ['Steven','25','NY','YouTuber'],\n",
    "                    ['Henry','19','Bcn','Student'],['John','31','Bcn','Innovator']])\n",
    "my_array"
   ]
  },
  {
   "cell_type": "markdown",
   "metadata": {},
   "source": [
    "C) Convert your previous array into a pandas dataframe."
   ]
  },
  {
   "cell_type": "code",
   "execution_count": 3,
   "metadata": {},
   "outputs": [
    {
     "data": {
      "text/html": [
       "<div>\n",
       "<style scoped>\n",
       "    .dataframe tbody tr th:only-of-type {\n",
       "        vertical-align: middle;\n",
       "    }\n",
       "\n",
       "    .dataframe tbody tr th {\n",
       "        vertical-align: top;\n",
       "    }\n",
       "\n",
       "    .dataframe thead th {\n",
       "        text-align: right;\n",
       "    }\n",
       "</style>\n",
       "<table border=\"1\" class=\"dataframe\">\n",
       "  <thead>\n",
       "    <tr style=\"text-align: right;\">\n",
       "      <th></th>\n",
       "      <th>Name</th>\n",
       "      <th>Age</th>\n",
       "      <th>Loc</th>\n",
       "      <th>Occupation</th>\n",
       "    </tr>\n",
       "  </thead>\n",
       "  <tbody>\n",
       "    <tr>\n",
       "      <th>0</th>\n",
       "      <td>George</td>\n",
       "      <td>30</td>\n",
       "      <td>Bcn</td>\n",
       "      <td>Engineer</td>\n",
       "    </tr>\n",
       "    <tr>\n",
       "      <th>1</th>\n",
       "      <td>Andrew</td>\n",
       "      <td>29</td>\n",
       "      <td>NY</td>\n",
       "      <td>Financial Analyst</td>\n",
       "    </tr>\n",
       "    <tr>\n",
       "      <th>2</th>\n",
       "      <td>Steven</td>\n",
       "      <td>25</td>\n",
       "      <td>NY</td>\n",
       "      <td>YouTuber</td>\n",
       "    </tr>\n",
       "    <tr>\n",
       "      <th>3</th>\n",
       "      <td>Henry</td>\n",
       "      <td>19</td>\n",
       "      <td>Bcn</td>\n",
       "      <td>Student</td>\n",
       "    </tr>\n",
       "    <tr>\n",
       "      <th>4</th>\n",
       "      <td>John</td>\n",
       "      <td>31</td>\n",
       "      <td>Bcn</td>\n",
       "      <td>Innovator</td>\n",
       "    </tr>\n",
       "  </tbody>\n",
       "</table>\n",
       "</div>"
      ],
      "text/plain": [
       "     Name Age  Loc         Occupation\n",
       "0  George  30  Bcn           Engineer\n",
       "1  Andrew  29   NY  Financial Analyst\n",
       "2  Steven  25   NY           YouTuber\n",
       "3   Henry  19  Bcn            Student\n",
       "4    John  31  Bcn          Innovator"
      ]
     },
     "execution_count": 3,
     "metadata": {},
     "output_type": "execute_result"
    }
   ],
   "source": [
    "import pandas as pd\n",
    "\n",
    "df = pd.DataFrame(my_array[1:], columns=my_array[0])\n",
    "df"
   ]
  },
  {
   "cell_type": "markdown",
   "metadata": {},
   "source": [
    " D) Please write a function that will start with the number 2 and will add 3 as long as the number is under 25."
   ]
  },
  {
   "cell_type": "code",
   "execution_count": 4,
   "metadata": {},
   "outputs": [],
   "source": [
    "def fancyfunction():\n",
    "    i = 2\n",
    "    while i < 25:\n",
    "        i += 3\n",
    "    return i"
   ]
  },
  {
   "cell_type": "code",
   "execution_count": 5,
   "metadata": {},
   "outputs": [
    {
     "data": {
      "text/plain": [
       "26"
      ]
     },
     "execution_count": 5,
     "metadata": {},
     "output_type": "execute_result"
    }
   ],
   "source": [
    "fancyfunction()"
   ]
  },
  {
   "cell_type": "markdown",
   "metadata": {},
   "source": [
    "E) Briefly explain what a lambda function is and its benefits over using regular functions."
   ]
  },
  {
   "cell_type": "markdown",
   "metadata": {},
   "source": [
    "**Lamba functions are functions that are created and used when within another piece of code. They are really useful when working with dataframes. They can be applied to create a new feature (feature engineering) with one line of code.**"
   ]
  },
  {
   "cell_type": "markdown",
   "metadata": {},
   "source": [
    "F) What is the difference between relational and non-relational databases?"
   ]
  },
  {
   "cell_type": "markdown",
   "metadata": {},
   "source": [
    "**Relational databases consist of tables that have a relationship defined in the schema. They use a tabular schema consisting of rows and columns. A query can be written to easily select (filter), add, or delete information. As for non-relational databases, they don't follow the tabular schema. They basically come in various forms and shapes depending on the type of non-relational db it is.**"
   ]
  },
  {
   "cell_type": "markdown",
   "metadata": {},
   "source": [
    "<h2>2. Manipulating Data </h2>\n",
    "\n",
    "Dataset used: \"AB_NYC_2019.csv\" </p>\n",
    "In this part of the exam you will have to play around with a dataset and display subsets of the data."
   ]
  },
  {
   "cell_type": "code",
   "execution_count": 6,
   "metadata": {},
   "outputs": [],
   "source": [
    "import pandas as pd"
   ]
  },
  {
   "cell_type": "markdown",
   "metadata": {},
   "source": [
    "A) Load \"AB_NYC_2019.csv\",  drop all null values, and name it \"df\"."
   ]
  },
  {
   "cell_type": "code",
   "execution_count": 7,
   "metadata": {},
   "outputs": [
    {
     "data": {
      "text/html": [
       "<div>\n",
       "<style scoped>\n",
       "    .dataframe tbody tr th:only-of-type {\n",
       "        vertical-align: middle;\n",
       "    }\n",
       "\n",
       "    .dataframe tbody tr th {\n",
       "        vertical-align: top;\n",
       "    }\n",
       "\n",
       "    .dataframe thead th {\n",
       "        text-align: right;\n",
       "    }\n",
       "</style>\n",
       "<table border=\"1\" class=\"dataframe\">\n",
       "  <thead>\n",
       "    <tr style=\"text-align: right;\">\n",
       "      <th></th>\n",
       "      <th>id</th>\n",
       "      <th>name</th>\n",
       "      <th>host_id</th>\n",
       "      <th>host_name</th>\n",
       "      <th>neighbourhood_group</th>\n",
       "      <th>neighbourhood</th>\n",
       "      <th>latitude</th>\n",
       "      <th>longitude</th>\n",
       "      <th>room_type</th>\n",
       "      <th>price</th>\n",
       "      <th>minimum_nights</th>\n",
       "      <th>number_of_reviews</th>\n",
       "      <th>last_review</th>\n",
       "      <th>reviews_per_month</th>\n",
       "      <th>calculated_host_listings_count</th>\n",
       "      <th>availability_365</th>\n",
       "    </tr>\n",
       "  </thead>\n",
       "  <tbody>\n",
       "    <tr>\n",
       "      <th>0</th>\n",
       "      <td>2539</td>\n",
       "      <td>Clean &amp; quiet apt home by the park</td>\n",
       "      <td>2787</td>\n",
       "      <td>John</td>\n",
       "      <td>Brooklyn</td>\n",
       "      <td>Kensington</td>\n",
       "      <td>40.64749</td>\n",
       "      <td>-73.97237</td>\n",
       "      <td>Private room</td>\n",
       "      <td>149</td>\n",
       "      <td>1</td>\n",
       "      <td>9</td>\n",
       "      <td>2018-10-19</td>\n",
       "      <td>0.21</td>\n",
       "      <td>6</td>\n",
       "      <td>365</td>\n",
       "    </tr>\n",
       "    <tr>\n",
       "      <th>1</th>\n",
       "      <td>2595</td>\n",
       "      <td>Skylit Midtown Castle</td>\n",
       "      <td>2845</td>\n",
       "      <td>Jennifer</td>\n",
       "      <td>Manhattan</td>\n",
       "      <td>Midtown</td>\n",
       "      <td>40.75362</td>\n",
       "      <td>-73.98377</td>\n",
       "      <td>Entire home/apt</td>\n",
       "      <td>225</td>\n",
       "      <td>1</td>\n",
       "      <td>45</td>\n",
       "      <td>2019-05-21</td>\n",
       "      <td>0.38</td>\n",
       "      <td>2</td>\n",
       "      <td>355</td>\n",
       "    </tr>\n",
       "    <tr>\n",
       "      <th>3</th>\n",
       "      <td>3831</td>\n",
       "      <td>Cozy Entire Floor of Brownstone</td>\n",
       "      <td>4869</td>\n",
       "      <td>LisaRoxanne</td>\n",
       "      <td>Brooklyn</td>\n",
       "      <td>Clinton Hill</td>\n",
       "      <td>40.68514</td>\n",
       "      <td>-73.95976</td>\n",
       "      <td>Entire home/apt</td>\n",
       "      <td>89</td>\n",
       "      <td>1</td>\n",
       "      <td>270</td>\n",
       "      <td>2019-07-05</td>\n",
       "      <td>4.64</td>\n",
       "      <td>1</td>\n",
       "      <td>194</td>\n",
       "    </tr>\n",
       "  </tbody>\n",
       "</table>\n",
       "</div>"
      ],
      "text/plain": [
       "     id                                name  host_id    host_name  \\\n",
       "0  2539  Clean & quiet apt home by the park     2787         John   \n",
       "1  2595               Skylit Midtown Castle     2845     Jennifer   \n",
       "3  3831     Cozy Entire Floor of Brownstone     4869  LisaRoxanne   \n",
       "\n",
       "  neighbourhood_group neighbourhood  latitude  longitude        room_type  \\\n",
       "0            Brooklyn    Kensington  40.64749  -73.97237     Private room   \n",
       "1           Manhattan       Midtown  40.75362  -73.98377  Entire home/apt   \n",
       "3            Brooklyn  Clinton Hill  40.68514  -73.95976  Entire home/apt   \n",
       "\n",
       "   price  minimum_nights  number_of_reviews last_review  reviews_per_month  \\\n",
       "0    149               1                  9  2018-10-19               0.21   \n",
       "1    225               1                 45  2019-05-21               0.38   \n",
       "3     89               1                270  2019-07-05               4.64   \n",
       "\n",
       "   calculated_host_listings_count  availability_365  \n",
       "0                               6               365  \n",
       "1                               2               355  \n",
       "3                               1               194  "
      ]
     },
     "execution_count": 7,
     "metadata": {},
     "output_type": "execute_result"
    }
   ],
   "source": [
    "df = pd.read_csv(\"AB_NYC_2019.csv\").dropna(axis=0)\n",
    "df.head(3)"
   ]
  },
  {
   "cell_type": "markdown",
   "metadata": {},
   "source": [
    "B) Within the dataframe \"df\", permanently rename the column \"name\" to \"listing_name\"."
   ]
  },
  {
   "cell_type": "code",
   "execution_count": 8,
   "metadata": {},
   "outputs": [
    {
     "data": {
      "text/html": [
       "<div>\n",
       "<style scoped>\n",
       "    .dataframe tbody tr th:only-of-type {\n",
       "        vertical-align: middle;\n",
       "    }\n",
       "\n",
       "    .dataframe tbody tr th {\n",
       "        vertical-align: top;\n",
       "    }\n",
       "\n",
       "    .dataframe thead th {\n",
       "        text-align: right;\n",
       "    }\n",
       "</style>\n",
       "<table border=\"1\" class=\"dataframe\">\n",
       "  <thead>\n",
       "    <tr style=\"text-align: right;\">\n",
       "      <th></th>\n",
       "      <th>id</th>\n",
       "      <th>listing_name</th>\n",
       "      <th>host_id</th>\n",
       "      <th>host_name</th>\n",
       "      <th>neighbourhood_group</th>\n",
       "      <th>neighbourhood</th>\n",
       "      <th>latitude</th>\n",
       "      <th>longitude</th>\n",
       "      <th>room_type</th>\n",
       "      <th>price</th>\n",
       "      <th>minimum_nights</th>\n",
       "      <th>number_of_reviews</th>\n",
       "      <th>last_review</th>\n",
       "      <th>reviews_per_month</th>\n",
       "      <th>calculated_host_listings_count</th>\n",
       "      <th>availability_365</th>\n",
       "    </tr>\n",
       "  </thead>\n",
       "  <tbody>\n",
       "    <tr>\n",
       "      <th>0</th>\n",
       "      <td>2539</td>\n",
       "      <td>Clean &amp; quiet apt home by the park</td>\n",
       "      <td>2787</td>\n",
       "      <td>John</td>\n",
       "      <td>Brooklyn</td>\n",
       "      <td>Kensington</td>\n",
       "      <td>40.64749</td>\n",
       "      <td>-73.97237</td>\n",
       "      <td>Private room</td>\n",
       "      <td>149</td>\n",
       "      <td>1</td>\n",
       "      <td>9</td>\n",
       "      <td>2018-10-19</td>\n",
       "      <td>0.21</td>\n",
       "      <td>6</td>\n",
       "      <td>365</td>\n",
       "    </tr>\n",
       "    <tr>\n",
       "      <th>1</th>\n",
       "      <td>2595</td>\n",
       "      <td>Skylit Midtown Castle</td>\n",
       "      <td>2845</td>\n",
       "      <td>Jennifer</td>\n",
       "      <td>Manhattan</td>\n",
       "      <td>Midtown</td>\n",
       "      <td>40.75362</td>\n",
       "      <td>-73.98377</td>\n",
       "      <td>Entire home/apt</td>\n",
       "      <td>225</td>\n",
       "      <td>1</td>\n",
       "      <td>45</td>\n",
       "      <td>2019-05-21</td>\n",
       "      <td>0.38</td>\n",
       "      <td>2</td>\n",
       "      <td>355</td>\n",
       "    </tr>\n",
       "    <tr>\n",
       "      <th>3</th>\n",
       "      <td>3831</td>\n",
       "      <td>Cozy Entire Floor of Brownstone</td>\n",
       "      <td>4869</td>\n",
       "      <td>LisaRoxanne</td>\n",
       "      <td>Brooklyn</td>\n",
       "      <td>Clinton Hill</td>\n",
       "      <td>40.68514</td>\n",
       "      <td>-73.95976</td>\n",
       "      <td>Entire home/apt</td>\n",
       "      <td>89</td>\n",
       "      <td>1</td>\n",
       "      <td>270</td>\n",
       "      <td>2019-07-05</td>\n",
       "      <td>4.64</td>\n",
       "      <td>1</td>\n",
       "      <td>194</td>\n",
       "    </tr>\n",
       "  </tbody>\n",
       "</table>\n",
       "</div>"
      ],
      "text/plain": [
       "     id                        listing_name  host_id    host_name  \\\n",
       "0  2539  Clean & quiet apt home by the park     2787         John   \n",
       "1  2595               Skylit Midtown Castle     2845     Jennifer   \n",
       "3  3831     Cozy Entire Floor of Brownstone     4869  LisaRoxanne   \n",
       "\n",
       "  neighbourhood_group neighbourhood  latitude  longitude        room_type  \\\n",
       "0            Brooklyn    Kensington  40.64749  -73.97237     Private room   \n",
       "1           Manhattan       Midtown  40.75362  -73.98377  Entire home/apt   \n",
       "3            Brooklyn  Clinton Hill  40.68514  -73.95976  Entire home/apt   \n",
       "\n",
       "   price  minimum_nights  number_of_reviews last_review  reviews_per_month  \\\n",
       "0    149               1                  9  2018-10-19               0.21   \n",
       "1    225               1                 45  2019-05-21               0.38   \n",
       "3     89               1                270  2019-07-05               4.64   \n",
       "\n",
       "   calculated_host_listings_count  availability_365  \n",
       "0                               6               365  \n",
       "1                               2               355  \n",
       "3                               1               194  "
      ]
     },
     "execution_count": 8,
     "metadata": {},
     "output_type": "execute_result"
    }
   ],
   "source": [
    "df.rename(columns={'name':'listing_name'}).head(3)"
   ]
  },
  {
   "cell_type": "markdown",
   "metadata": {},
   "source": [
    "C) Drop the column host_id. Save the new dataframe again under the name \"df\"."
   ]
  },
  {
   "cell_type": "code",
   "execution_count": 9,
   "metadata": {},
   "outputs": [],
   "source": [
    "df = df.drop([\"host_id\"],axis=1)"
   ]
  },
  {
   "cell_type": "markdown",
   "metadata": {},
   "source": [
    "D) Only show listings with a price higher than the average price. Sort the dataframe by price in an ascending order."
   ]
  },
  {
   "cell_type": "code",
   "execution_count": 10,
   "metadata": {},
   "outputs": [
    {
     "data": {
      "text/html": [
       "<div>\n",
       "<style scoped>\n",
       "    .dataframe tbody tr th:only-of-type {\n",
       "        vertical-align: middle;\n",
       "    }\n",
       "\n",
       "    .dataframe tbody tr th {\n",
       "        vertical-align: top;\n",
       "    }\n",
       "\n",
       "    .dataframe thead th {\n",
       "        text-align: right;\n",
       "    }\n",
       "</style>\n",
       "<table border=\"1\" class=\"dataframe\">\n",
       "  <thead>\n",
       "    <tr style=\"text-align: right;\">\n",
       "      <th></th>\n",
       "      <th>id</th>\n",
       "      <th>name</th>\n",
       "      <th>host_name</th>\n",
       "      <th>neighbourhood_group</th>\n",
       "      <th>neighbourhood</th>\n",
       "      <th>latitude</th>\n",
       "      <th>longitude</th>\n",
       "      <th>room_type</th>\n",
       "      <th>price</th>\n",
       "      <th>minimum_nights</th>\n",
       "      <th>number_of_reviews</th>\n",
       "      <th>last_review</th>\n",
       "      <th>reviews_per_month</th>\n",
       "      <th>calculated_host_listings_count</th>\n",
       "      <th>availability_365</th>\n",
       "    </tr>\n",
       "  </thead>\n",
       "  <tbody>\n",
       "    <tr>\n",
       "      <th>16776</th>\n",
       "      <td>13395955</td>\n",
       "      <td>Adorable Prospect Heights 1 Bedroom</td>\n",
       "      <td>Nancy</td>\n",
       "      <td>Brooklyn</td>\n",
       "      <td>Prospect Heights</td>\n",
       "      <td>40.67649</td>\n",
       "      <td>-73.96697</td>\n",
       "      <td>Entire home/apt</td>\n",
       "      <td>143</td>\n",
       "      <td>31</td>\n",
       "      <td>3</td>\n",
       "      <td>2018-07-21</td>\n",
       "      <td>0.08</td>\n",
       "      <td>1</td>\n",
       "      <td>0</td>\n",
       "    </tr>\n",
       "    <tr>\n",
       "      <th>15285</th>\n",
       "      <td>12234139</td>\n",
       "      <td>1 Bedroom Outside Columbus Circle</td>\n",
       "      <td>Mckenzie</td>\n",
       "      <td>Manhattan</td>\n",
       "      <td>Upper West Side</td>\n",
       "      <td>40.77116</td>\n",
       "      <td>-73.98796</td>\n",
       "      <td>Entire home/apt</td>\n",
       "      <td>143</td>\n",
       "      <td>2</td>\n",
       "      <td>32</td>\n",
       "      <td>2019-04-22</td>\n",
       "      <td>0.81</td>\n",
       "      <td>1</td>\n",
       "      <td>0</td>\n",
       "    </tr>\n",
       "    <tr>\n",
       "      <th>15774</th>\n",
       "      <td>12755571</td>\n",
       "      <td>Studio in the heart of Manhattan</td>\n",
       "      <td>Nina</td>\n",
       "      <td>Manhattan</td>\n",
       "      <td>Midtown</td>\n",
       "      <td>40.75227</td>\n",
       "      <td>-73.97351</td>\n",
       "      <td>Entire home/apt</td>\n",
       "      <td>143</td>\n",
       "      <td>1</td>\n",
       "      <td>1</td>\n",
       "      <td>2016-05-13</td>\n",
       "      <td>0.03</td>\n",
       "      <td>1</td>\n",
       "      <td>0</td>\n",
       "    </tr>\n",
       "    <tr>\n",
       "      <th>37425</th>\n",
       "      <td>29699681</td>\n",
       "      <td>Sunny Penthouse with Williamsburg Bridge view</td>\n",
       "      <td>Laura</td>\n",
       "      <td>Brooklyn</td>\n",
       "      <td>Williamsburg</td>\n",
       "      <td>40.71093</td>\n",
       "      <td>-73.96407</td>\n",
       "      <td>Entire home/apt</td>\n",
       "      <td>143</td>\n",
       "      <td>5</td>\n",
       "      <td>2</td>\n",
       "      <td>2019-05-21</td>\n",
       "      <td>0.24</td>\n",
       "      <td>1</td>\n",
       "      <td>9</td>\n",
       "    </tr>\n",
       "    <tr>\n",
       "      <th>41791</th>\n",
       "      <td>32494256</td>\n",
       "      <td>Newly renovated 2 Bedroom Apartment</td>\n",
       "      <td>Victoria</td>\n",
       "      <td>Brooklyn</td>\n",
       "      <td>Clinton Hill</td>\n",
       "      <td>40.68771</td>\n",
       "      <td>-73.96304</td>\n",
       "      <td>Entire home/apt</td>\n",
       "      <td>143</td>\n",
       "      <td>2</td>\n",
       "      <td>22</td>\n",
       "      <td>2019-06-18</td>\n",
       "      <td>5.00</td>\n",
       "      <td>1</td>\n",
       "      <td>81</td>\n",
       "    </tr>\n",
       "    <tr>\n",
       "      <th>...</th>\n",
       "      <td>...</td>\n",
       "      <td>...</td>\n",
       "      <td>...</td>\n",
       "      <td>...</td>\n",
       "      <td>...</td>\n",
       "      <td>...</td>\n",
       "      <td>...</td>\n",
       "      <td>...</td>\n",
       "      <td>...</td>\n",
       "      <td>...</td>\n",
       "      <td>...</td>\n",
       "      <td>...</td>\n",
       "      <td>...</td>\n",
       "      <td>...</td>\n",
       "      <td>...</td>\n",
       "    </tr>\n",
       "    <tr>\n",
       "      <th>30268</th>\n",
       "      <td>23377410</td>\n",
       "      <td>Beautiful/Spacious 1 bed luxury flat-TriBeCa/Soho</td>\n",
       "      <td>Rum</td>\n",
       "      <td>Manhattan</td>\n",
       "      <td>Tribeca</td>\n",
       "      <td>40.72197</td>\n",
       "      <td>-74.00633</td>\n",
       "      <td>Entire home/apt</td>\n",
       "      <td>8500</td>\n",
       "      <td>30</td>\n",
       "      <td>2</td>\n",
       "      <td>2018-09-18</td>\n",
       "      <td>0.18</td>\n",
       "      <td>1</td>\n",
       "      <td>251</td>\n",
       "    </tr>\n",
       "    <tr>\n",
       "      <th>12342</th>\n",
       "      <td>9528920</td>\n",
       "      <td>Quiet, Clean, Lit @ LES &amp; Chinatown</td>\n",
       "      <td>Amy</td>\n",
       "      <td>Manhattan</td>\n",
       "      <td>Lower East Side</td>\n",
       "      <td>40.71355</td>\n",
       "      <td>-73.98507</td>\n",
       "      <td>Private room</td>\n",
       "      <td>9999</td>\n",
       "      <td>99</td>\n",
       "      <td>6</td>\n",
       "      <td>2016-01-01</td>\n",
       "      <td>0.14</td>\n",
       "      <td>1</td>\n",
       "      <td>83</td>\n",
       "    </tr>\n",
       "    <tr>\n",
       "      <th>6530</th>\n",
       "      <td>4737930</td>\n",
       "      <td>Spanish Harlem Apt</td>\n",
       "      <td>Olson</td>\n",
       "      <td>Manhattan</td>\n",
       "      <td>East Harlem</td>\n",
       "      <td>40.79264</td>\n",
       "      <td>-73.93898</td>\n",
       "      <td>Entire home/apt</td>\n",
       "      <td>9999</td>\n",
       "      <td>5</td>\n",
       "      <td>1</td>\n",
       "      <td>2015-01-02</td>\n",
       "      <td>0.02</td>\n",
       "      <td>1</td>\n",
       "      <td>0</td>\n",
       "    </tr>\n",
       "    <tr>\n",
       "      <th>9151</th>\n",
       "      <td>7003697</td>\n",
       "      <td>Furnished room in Astoria apartment</td>\n",
       "      <td>Kathrine</td>\n",
       "      <td>Queens</td>\n",
       "      <td>Astoria</td>\n",
       "      <td>40.76810</td>\n",
       "      <td>-73.91651</td>\n",
       "      <td>Private room</td>\n",
       "      <td>10000</td>\n",
       "      <td>100</td>\n",
       "      <td>2</td>\n",
       "      <td>2016-02-13</td>\n",
       "      <td>0.04</td>\n",
       "      <td>1</td>\n",
       "      <td>0</td>\n",
       "    </tr>\n",
       "    <tr>\n",
       "      <th>17692</th>\n",
       "      <td>13894339</td>\n",
       "      <td>Luxury 1 bedroom apt. -stunning Manhattan views</td>\n",
       "      <td>Erin</td>\n",
       "      <td>Brooklyn</td>\n",
       "      <td>Greenpoint</td>\n",
       "      <td>40.73260</td>\n",
       "      <td>-73.95739</td>\n",
       "      <td>Entire home/apt</td>\n",
       "      <td>10000</td>\n",
       "      <td>5</td>\n",
       "      <td>5</td>\n",
       "      <td>2017-07-27</td>\n",
       "      <td>0.16</td>\n",
       "      <td>1</td>\n",
       "      <td>0</td>\n",
       "    </tr>\n",
       "  </tbody>\n",
       "</table>\n",
       "<p>13372 rows × 15 columns</p>\n",
       "</div>"
      ],
      "text/plain": [
       "             id                                               name host_name  \\\n",
       "16776  13395955                Adorable Prospect Heights 1 Bedroom     Nancy   \n",
       "15285  12234139                  1 Bedroom Outside Columbus Circle  Mckenzie   \n",
       "15774  12755571                   Studio in the heart of Manhattan      Nina   \n",
       "37425  29699681      Sunny Penthouse with Williamsburg Bridge view     Laura   \n",
       "41791  32494256                Newly renovated 2 Bedroom Apartment  Victoria   \n",
       "...         ...                                                ...       ...   \n",
       "30268  23377410  Beautiful/Spacious 1 bed luxury flat-TriBeCa/Soho       Rum   \n",
       "12342   9528920                Quiet, Clean, Lit @ LES & Chinatown       Amy   \n",
       "6530    4737930                                 Spanish Harlem Apt     Olson   \n",
       "9151    7003697                Furnished room in Astoria apartment  Kathrine   \n",
       "17692  13894339    Luxury 1 bedroom apt. -stunning Manhattan views      Erin   \n",
       "\n",
       "      neighbourhood_group     neighbourhood  latitude  longitude  \\\n",
       "16776            Brooklyn  Prospect Heights  40.67649  -73.96697   \n",
       "15285           Manhattan   Upper West Side  40.77116  -73.98796   \n",
       "15774           Manhattan           Midtown  40.75227  -73.97351   \n",
       "37425            Brooklyn      Williamsburg  40.71093  -73.96407   \n",
       "41791            Brooklyn      Clinton Hill  40.68771  -73.96304   \n",
       "...                   ...               ...       ...        ...   \n",
       "30268           Manhattan           Tribeca  40.72197  -74.00633   \n",
       "12342           Manhattan   Lower East Side  40.71355  -73.98507   \n",
       "6530            Manhattan       East Harlem  40.79264  -73.93898   \n",
       "9151               Queens           Astoria  40.76810  -73.91651   \n",
       "17692            Brooklyn        Greenpoint  40.73260  -73.95739   \n",
       "\n",
       "             room_type  price  minimum_nights  number_of_reviews last_review  \\\n",
       "16776  Entire home/apt    143              31                  3  2018-07-21   \n",
       "15285  Entire home/apt    143               2                 32  2019-04-22   \n",
       "15774  Entire home/apt    143               1                  1  2016-05-13   \n",
       "37425  Entire home/apt    143               5                  2  2019-05-21   \n",
       "41791  Entire home/apt    143               2                 22  2019-06-18   \n",
       "...                ...    ...             ...                ...         ...   \n",
       "30268  Entire home/apt   8500              30                  2  2018-09-18   \n",
       "12342     Private room   9999              99                  6  2016-01-01   \n",
       "6530   Entire home/apt   9999               5                  1  2015-01-02   \n",
       "9151      Private room  10000             100                  2  2016-02-13   \n",
       "17692  Entire home/apt  10000               5                  5  2017-07-27   \n",
       "\n",
       "       reviews_per_month  calculated_host_listings_count  availability_365  \n",
       "16776               0.08                               1                 0  \n",
       "15285               0.81                               1                 0  \n",
       "15774               0.03                               1                 0  \n",
       "37425               0.24                               1                 9  \n",
       "41791               5.00                               1                81  \n",
       "...                  ...                             ...               ...  \n",
       "30268               0.18                               1               251  \n",
       "12342               0.14                               1                83  \n",
       "6530                0.02                               1                 0  \n",
       "9151                0.04                               1                 0  \n",
       "17692               0.16                               1                 0  \n",
       "\n",
       "[13372 rows x 15 columns]"
      ]
     },
     "execution_count": 10,
     "metadata": {},
     "output_type": "execute_result"
    }
   ],
   "source": [
    "df[df[\"price\"]>df.price.mean()].sort_values(by=\"price\")"
   ]
  },
  {
   "cell_type": "markdown",
   "metadata": {},
   "source": [
    "E) Only show listings that have more than the average reviews and that are available for more than 10 nights (column \"minimum_nights\"). Sort the dataframe by reviews in a descending order."
   ]
  },
  {
   "cell_type": "code",
   "execution_count": 11,
   "metadata": {},
   "outputs": [
    {
     "data": {
      "text/html": [
       "<div>\n",
       "<style scoped>\n",
       "    .dataframe tbody tr th:only-of-type {\n",
       "        vertical-align: middle;\n",
       "    }\n",
       "\n",
       "    .dataframe tbody tr th {\n",
       "        vertical-align: top;\n",
       "    }\n",
       "\n",
       "    .dataframe thead th {\n",
       "        text-align: right;\n",
       "    }\n",
       "</style>\n",
       "<table border=\"1\" class=\"dataframe\">\n",
       "  <thead>\n",
       "    <tr style=\"text-align: right;\">\n",
       "      <th></th>\n",
       "      <th>id</th>\n",
       "      <th>name</th>\n",
       "      <th>host_name</th>\n",
       "      <th>neighbourhood_group</th>\n",
       "      <th>neighbourhood</th>\n",
       "      <th>latitude</th>\n",
       "      <th>longitude</th>\n",
       "      <th>room_type</th>\n",
       "      <th>price</th>\n",
       "      <th>minimum_nights</th>\n",
       "      <th>number_of_reviews</th>\n",
       "      <th>last_review</th>\n",
       "      <th>reviews_per_month</th>\n",
       "      <th>calculated_host_listings_count</th>\n",
       "      <th>availability_365</th>\n",
       "    </tr>\n",
       "  </thead>\n",
       "  <tbody>\n",
       "    <tr>\n",
       "      <th>113</th>\n",
       "      <td>26785</td>\n",
       "      <td>Park Slope Green Guest House</td>\n",
       "      <td>Dani</td>\n",
       "      <td>Brooklyn</td>\n",
       "      <td>South Slope</td>\n",
       "      <td>40.66853</td>\n",
       "      <td>-73.98912</td>\n",
       "      <td>Entire home/apt</td>\n",
       "      <td>120</td>\n",
       "      <td>30</td>\n",
       "      <td>467</td>\n",
       "      <td>2018-12-30</td>\n",
       "      <td>4.22</td>\n",
       "      <td>2</td>\n",
       "      <td>192</td>\n",
       "    </tr>\n",
       "    <tr>\n",
       "      <th>3605</th>\n",
       "      <td>2154075</td>\n",
       "      <td>Brooklyn Charm, Close to Manhattan (30+ Days O...</td>\n",
       "      <td>Joni</td>\n",
       "      <td>Brooklyn</td>\n",
       "      <td>Bedford-Stuyvesant</td>\n",
       "      <td>40.68640</td>\n",
       "      <td>-73.94529</td>\n",
       "      <td>Entire home/apt</td>\n",
       "      <td>112</td>\n",
       "      <td>200</td>\n",
       "      <td>314</td>\n",
       "      <td>2019-06-20</td>\n",
       "      <td>4.82</td>\n",
       "      <td>2</td>\n",
       "      <td>42</td>\n",
       "    </tr>\n",
       "    <tr>\n",
       "      <th>1242</th>\n",
       "      <td>531091</td>\n",
       "      <td>King size bedroom in 2 bed apartment</td>\n",
       "      <td>Dragan</td>\n",
       "      <td>Queens</td>\n",
       "      <td>Astoria</td>\n",
       "      <td>40.75532</td>\n",
       "      <td>-73.91603</td>\n",
       "      <td>Private room</td>\n",
       "      <td>109</td>\n",
       "      <td>30</td>\n",
       "      <td>304</td>\n",
       "      <td>2019-06-19</td>\n",
       "      <td>3.70</td>\n",
       "      <td>1</td>\n",
       "      <td>0</td>\n",
       "    </tr>\n",
       "    <tr>\n",
       "      <th>7984</th>\n",
       "      <td>6141401</td>\n",
       "      <td>Large Alcove Studio</td>\n",
       "      <td>Jon</td>\n",
       "      <td>Manhattan</td>\n",
       "      <td>Kips Bay</td>\n",
       "      <td>40.74257</td>\n",
       "      <td>-73.98207</td>\n",
       "      <td>Entire home/apt</td>\n",
       "      <td>225</td>\n",
       "      <td>30</td>\n",
       "      <td>276</td>\n",
       "      <td>2019-06-21</td>\n",
       "      <td>5.54</td>\n",
       "      <td>1</td>\n",
       "      <td>338</td>\n",
       "    </tr>\n",
       "    <tr>\n",
       "      <th>6375</th>\n",
       "      <td>4644632</td>\n",
       "      <td>Brooklyn Life, Easy to Manhattan (30+ Days only)</td>\n",
       "      <td>Joni</td>\n",
       "      <td>Brooklyn</td>\n",
       "      <td>Bedford-Stuyvesant</td>\n",
       "      <td>40.68797</td>\n",
       "      <td>-73.94696</td>\n",
       "      <td>Entire home/apt</td>\n",
       "      <td>130</td>\n",
       "      <td>200</td>\n",
       "      <td>271</td>\n",
       "      <td>2019-07-03</td>\n",
       "      <td>4.84</td>\n",
       "      <td>2</td>\n",
       "      <td>64</td>\n",
       "    </tr>\n",
       "    <tr>\n",
       "      <th>...</th>\n",
       "      <td>...</td>\n",
       "      <td>...</td>\n",
       "      <td>...</td>\n",
       "      <td>...</td>\n",
       "      <td>...</td>\n",
       "      <td>...</td>\n",
       "      <td>...</td>\n",
       "      <td>...</td>\n",
       "      <td>...</td>\n",
       "      <td>...</td>\n",
       "      <td>...</td>\n",
       "      <td>...</td>\n",
       "      <td>...</td>\n",
       "      <td>...</td>\n",
       "      <td>...</td>\n",
       "    </tr>\n",
       "    <tr>\n",
       "      <th>2095</th>\n",
       "      <td>949713</td>\n",
       "      <td>Luxury Duplex Loft w. Private Roof &amp; Amazing V...</td>\n",
       "      <td>Tal</td>\n",
       "      <td>Brooklyn</td>\n",
       "      <td>Gowanus</td>\n",
       "      <td>40.67450</td>\n",
       "      <td>-73.99582</td>\n",
       "      <td>Entire home/apt</td>\n",
       "      <td>400</td>\n",
       "      <td>30</td>\n",
       "      <td>30</td>\n",
       "      <td>2019-06-01</td>\n",
       "      <td>0.39</td>\n",
       "      <td>1</td>\n",
       "      <td>67</td>\n",
       "    </tr>\n",
       "    <tr>\n",
       "      <th>496</th>\n",
       "      <td>174966</td>\n",
       "      <td>Luxury 2Bed/2.5Bath Central Park View</td>\n",
       "      <td>Henry</td>\n",
       "      <td>Manhattan</td>\n",
       "      <td>Upper West Side</td>\n",
       "      <td>40.77350</td>\n",
       "      <td>-73.98697</td>\n",
       "      <td>Entire home/apt</td>\n",
       "      <td>2000</td>\n",
       "      <td>30</td>\n",
       "      <td>30</td>\n",
       "      <td>2018-05-05</td>\n",
       "      <td>0.33</td>\n",
       "      <td>11</td>\n",
       "      <td>0</td>\n",
       "    </tr>\n",
       "    <tr>\n",
       "      <th>296</th>\n",
       "      <td>68735</td>\n",
       "      <td>Prewar Penthouse w Private Terrace</td>\n",
       "      <td>Violetta</td>\n",
       "      <td>Manhattan</td>\n",
       "      <td>Upper West Side</td>\n",
       "      <td>40.78971</td>\n",
       "      <td>-73.97290</td>\n",
       "      <td>Entire home/apt</td>\n",
       "      <td>195</td>\n",
       "      <td>11</td>\n",
       "      <td>30</td>\n",
       "      <td>2019-06-13</td>\n",
       "      <td>0.32</td>\n",
       "      <td>1</td>\n",
       "      <td>249</td>\n",
       "    </tr>\n",
       "    <tr>\n",
       "      <th>10746</th>\n",
       "      <td>8270710</td>\n",
       "      <td>Gorgeous sunny apt steps to park!</td>\n",
       "      <td>Eric And Aoife</td>\n",
       "      <td>Brooklyn</td>\n",
       "      <td>Windsor Terrace</td>\n",
       "      <td>40.65106</td>\n",
       "      <td>-73.97704</td>\n",
       "      <td>Entire home/apt</td>\n",
       "      <td>99</td>\n",
       "      <td>20</td>\n",
       "      <td>30</td>\n",
       "      <td>2017-06-11</td>\n",
       "      <td>0.65</td>\n",
       "      <td>2</td>\n",
       "      <td>65</td>\n",
       "    </tr>\n",
       "    <tr>\n",
       "      <th>188</th>\n",
       "      <td>47362</td>\n",
       "      <td>LARGE, COMFY 1BDR W/CHARACTER!!!</td>\n",
       "      <td>Robert</td>\n",
       "      <td>Brooklyn</td>\n",
       "      <td>Bedford-Stuyvesant</td>\n",
       "      <td>40.68237</td>\n",
       "      <td>-73.94150</td>\n",
       "      <td>Entire home/apt</td>\n",
       "      <td>175</td>\n",
       "      <td>26</td>\n",
       "      <td>30</td>\n",
       "      <td>2012-09-03</td>\n",
       "      <td>0.29</td>\n",
       "      <td>1</td>\n",
       "      <td>364</td>\n",
       "    </tr>\n",
       "  </tbody>\n",
       "</table>\n",
       "<p>469 rows × 15 columns</p>\n",
       "</div>"
      ],
      "text/plain": [
       "            id                                               name  \\\n",
       "113      26785                       Park Slope Green Guest House   \n",
       "3605   2154075  Brooklyn Charm, Close to Manhattan (30+ Days O...   \n",
       "1242    531091               King size bedroom in 2 bed apartment   \n",
       "7984   6141401                                Large Alcove Studio   \n",
       "6375   4644632   Brooklyn Life, Easy to Manhattan (30+ Days only)   \n",
       "...        ...                                                ...   \n",
       "2095    949713  Luxury Duplex Loft w. Private Roof & Amazing V...   \n",
       "496     174966              Luxury 2Bed/2.5Bath Central Park View   \n",
       "296      68735                 Prewar Penthouse w Private Terrace   \n",
       "10746  8270710                  Gorgeous sunny apt steps to park!   \n",
       "188      47362                   LARGE, COMFY 1BDR W/CHARACTER!!!   \n",
       "\n",
       "            host_name neighbourhood_group       neighbourhood  latitude  \\\n",
       "113              Dani            Brooklyn         South Slope  40.66853   \n",
       "3605             Joni            Brooklyn  Bedford-Stuyvesant  40.68640   \n",
       "1242           Dragan              Queens             Astoria  40.75532   \n",
       "7984              Jon           Manhattan            Kips Bay  40.74257   \n",
       "6375             Joni            Brooklyn  Bedford-Stuyvesant  40.68797   \n",
       "...               ...                 ...                 ...       ...   \n",
       "2095              Tal            Brooklyn             Gowanus  40.67450   \n",
       "496             Henry           Manhattan     Upper West Side  40.77350   \n",
       "296          Violetta           Manhattan     Upper West Side  40.78971   \n",
       "10746  Eric And Aoife            Brooklyn     Windsor Terrace  40.65106   \n",
       "188            Robert            Brooklyn  Bedford-Stuyvesant  40.68237   \n",
       "\n",
       "       longitude        room_type  price  minimum_nights  number_of_reviews  \\\n",
       "113    -73.98912  Entire home/apt    120              30                467   \n",
       "3605   -73.94529  Entire home/apt    112             200                314   \n",
       "1242   -73.91603     Private room    109              30                304   \n",
       "7984   -73.98207  Entire home/apt    225              30                276   \n",
       "6375   -73.94696  Entire home/apt    130             200                271   \n",
       "...          ...              ...    ...             ...                ...   \n",
       "2095   -73.99582  Entire home/apt    400              30                 30   \n",
       "496    -73.98697  Entire home/apt   2000              30                 30   \n",
       "296    -73.97290  Entire home/apt    195              11                 30   \n",
       "10746  -73.97704  Entire home/apt     99              20                 30   \n",
       "188    -73.94150  Entire home/apt    175              26                 30   \n",
       "\n",
       "      last_review  reviews_per_month  calculated_host_listings_count  \\\n",
       "113    2018-12-30               4.22                               2   \n",
       "3605   2019-06-20               4.82                               2   \n",
       "1242   2019-06-19               3.70                               1   \n",
       "7984   2019-06-21               5.54                               1   \n",
       "6375   2019-07-03               4.84                               2   \n",
       "...           ...                ...                             ...   \n",
       "2095   2019-06-01               0.39                               1   \n",
       "496    2018-05-05               0.33                              11   \n",
       "296    2019-06-13               0.32                               1   \n",
       "10746  2017-06-11               0.65                               2   \n",
       "188    2012-09-03               0.29                               1   \n",
       "\n",
       "       availability_365  \n",
       "113                 192  \n",
       "3605                 42  \n",
       "1242                  0  \n",
       "7984                338  \n",
       "6375                 64  \n",
       "...                 ...  \n",
       "2095                 67  \n",
       "496                   0  \n",
       "296                 249  \n",
       "10746                65  \n",
       "188                 364  \n",
       "\n",
       "[469 rows x 15 columns]"
      ]
     },
     "execution_count": 11,
     "metadata": {},
     "output_type": "execute_result"
    }
   ],
   "source": [
    "df[(df[\"number_of_reviews\"] > df[\"number_of_reviews\"].mean()) & (df[\"minimum_nights\"] > 10)].sort_values(by=\"number_of_reviews\",ascending=False)"
   ]
  },
  {
   "cell_type": "markdown",
   "metadata": {},
   "source": [
    "F) Display the number of listings per neighbourhood and only display those neighbourhoods with more than 1000 listings."
   ]
  },
  {
   "cell_type": "code",
   "execution_count": 12,
   "metadata": {},
   "outputs": [
    {
     "data": {
      "text/plain": [
       "Williamsburg          3163\n",
       "Bedford-Stuyvesant    3141\n",
       "Harlem                2204\n",
       "Bushwick              1942\n",
       "Hell's Kitchen        1528\n",
       "East Village          1489\n",
       "Upper West Side       1482\n",
       "Upper East Side       1405\n",
       "Crown Heights         1265\n",
       "Name: neighbourhood, dtype: int64"
      ]
     },
     "execution_count": 12,
     "metadata": {},
     "output_type": "execute_result"
    }
   ],
   "source": [
    "nh = df.neighbourhood.value_counts()[df.neighbourhood.value_counts()>1000]\n",
    "nh"
   ]
  },
  {
   "cell_type": "markdown",
   "metadata": {},
   "source": [
    "G) Display the number of the different types of rooms (column \"room_type\") per neighbourhood."
   ]
  },
  {
   "cell_type": "code",
   "execution_count": 13,
   "metadata": {},
   "outputs": [
    {
     "data": {
      "text/plain": [
       "neighbourhood  room_type      \n",
       "Allerton       Private room        22\n",
       "               Entire home/apt     15\n",
       "Arden Heights  Entire home/apt      3\n",
       "               Private room         1\n",
       "Arrochar       Entire home/apt     10\n",
       "                                 ... \n",
       "Woodlawn       Entire home/apt      4\n",
       "               Shared room          1\n",
       "Woodside       Private room       115\n",
       "               Entire home/apt     54\n",
       "               Shared room          1\n",
       "Name: room_type, Length: 518, dtype: int64"
      ]
     },
     "execution_count": 13,
     "metadata": {},
     "output_type": "execute_result"
    }
   ],
   "source": [
    "df.groupby(\"neighbourhood\")[\"room_type\"].value_counts()"
   ]
  },
  {
   "cell_type": "markdown",
   "metadata": {},
   "source": [
    "H) Replace the values within \"room_type\" with numerical values, i.e. 0 for \"private room\", 1 for \"Entire home/apt\", and 2 for \"Shared room\". </p>\n",
    "Save the new dataframe again under the name \"df\"."
   ]
  },
  {
   "cell_type": "code",
   "execution_count": 14,
   "metadata": {},
   "outputs": [],
   "source": [
    "df.room_type = df[\"room_type\"].apply(lambda x: 0 if x == \"Private room\" else (1 if x == \"Entire home/apt\" else 2))"
   ]
  },
  {
   "cell_type": "markdown",
   "metadata": {},
   "source": [
    "I) Display a bar chart using the distplot (from the seaborn library) that shows the neighbourhood on the x-axis and the number of listings on the y-axis."
   ]
  },
  {
   "cell_type": "code",
   "execution_count": 15,
   "metadata": {},
   "outputs": [],
   "source": [
    "import seaborn as sns"
   ]
  },
  {
   "cell_type": "code",
   "execution_count": 16,
   "metadata": {},
   "outputs": [
    {
     "data": {
      "image/png": "[encoded data removed]",
      "text/plain": [
       "<Figure size 432x288 with 1 Axes>"
      ]
     },
     "metadata": {
      "needs_background": "light"
     },
     "output_type": "display_data"
    }
   ],
   "source": [
    "plot = sns.histplot(df[\"neighbourhood\"])"
   ]
  },
  {
   "cell_type": "markdown",
   "metadata": {},
   "source": [
    "J) Scale the column \"price\" and the column \"number_of_reviews\" using a method that seems appropriate in your opinion. </p>\n",
    "Save the new dataframe again under the name \"df\"."
   ]
  },
  {
   "cell_type": "code",
   "execution_count": 17,
   "metadata": {},
   "outputs": [],
   "source": [
    "from sklearn.preprocessing import MinMaxScaler\n",
    "scaler = MinMaxScaler()\n",
    "df[[\"price\",\"number_of_reviews\"]] = scaler.fit_transform(df[[\"price\",\"number_of_reviews\"]])"
   ]
  },
  {
   "cell_type": "markdown",
   "metadata": {},
   "source": [
    "<h2>3. Cleaning Data</h2>\n",
    "\n",
    "Dataset used: \"defaults.xls\""
   ]
  },
  {
   "cell_type": "code",
   "execution_count": 18,
   "metadata": {},
   "outputs": [],
   "source": [
    "import pandas as pd"
   ]
  },
  {
   "cell_type": "markdown",
   "metadata": {},
   "source": [
    "A) Load the dataset \"defaults.xls\" and save it under the name \"defaults\". Display the datatypes of all columns of the dataset \"defaults.xls\"."
   ]
  },
  {
   "cell_type": "code",
   "execution_count": 19,
   "metadata": {},
   "outputs": [
    {
     "name": "stdout",
     "output_type": "stream",
     "text": [
      "<class 'pandas.core.frame.DataFrame'>\n",
      "RangeIndex: 29601 entries, 0 to 29600\n",
      "Data columns (total 7 columns):\n",
      " #   Column        Non-Null Count  Dtype \n",
      "---  ------        --------------  ----- \n",
      " 0   ID            29601 non-null  int64 \n",
      " 1   CREDIT_LIMIT  29601 non-null  int64 \n",
      " 2   SEX           29601 non-null  object\n",
      " 3   EDUCATION     29601 non-null  object\n",
      " 4   MARRIAGE      29601 non-null  object\n",
      " 5   AGE           29601 non-null  int64 \n",
      " 6   default       29601 non-null  int64 \n",
      "dtypes: int64(4), object(3)\n",
      "memory usage: 1.6+ MB\n"
     ]
    }
   ],
   "source": [
    "defaults = pd.read_excel(\"defaults.xls\")\n",
    "defaults.info()"
   ]
  },
  {
   "cell_type": "markdown",
   "metadata": {},
   "source": [
    "B) Some column(s) might not be needed. Get rid of them. Explain why you get rid of the respective column(s). </p>\n",
    "Save the new dataframe again under the name \"defaults\"."
   ]
  },
  {
   "cell_type": "code",
   "execution_count": 20,
   "metadata": {
    "scrolled": true
   },
   "outputs": [
    {
     "data": {
      "text/plain": [
       "ID              29601\n",
       "CREDIT_LIMIT       81\n",
       "SEX                 2\n",
       "EDUCATION           4\n",
       "MARRIAGE            3\n",
       "AGE                56\n",
       "default             2\n",
       "dtype: int64"
      ]
     },
     "execution_count": 20,
     "metadata": {},
     "output_type": "execute_result"
    }
   ],
   "source": [
    "defaults.nunique()"
   ]
  },
  {
   "cell_type": "code",
   "execution_count": 21,
   "metadata": {},
   "outputs": [],
   "source": [
    "# Dropping ID because it is not a feature that will aid in the building of a ML model\n",
    "\n",
    "defaults = defaults.drop([\"ID\"],axis=1)"
   ]
  },
  {
   "cell_type": "markdown",
   "metadata": {},
   "source": [
    "C) Convert all categorical values into dummy variables. Only include columns with valuable information. </p>\n",
    "Save the new dataframe again under the name \"defaults\"."
   ]
  },
  {
   "cell_type": "code",
   "execution_count": 22,
   "metadata": {},
   "outputs": [
    {
     "data": {
      "text/plain": [
       "Index(['CREDIT_LIMIT', 'SEX', 'EDUCATION', 'MARRIAGE', 'AGE', 'default'], dtype='object')"
      ]
     },
     "execution_count": 22,
     "metadata": {},
     "output_type": "execute_result"
    }
   ],
   "source": [
    "defaults.columns"
   ]
  },
  {
   "cell_type": "code",
   "execution_count": 23,
   "metadata": {},
   "outputs": [],
   "source": [
    "sex = pd.get_dummies(defaults['SEX'], prefix='Sex')\n",
    "education = pd.get_dummies(defaults['EDUCATION'], prefix='Education')\n",
    "marriage = pd.get_dummies(defaults['MARRIAGE'], prefix='Marriage')\n",
    "defaults = defaults.drop(['SEX', 'EDUCATION', 'MARRIAGE'],axis=1)"
   ]
  },
  {
   "cell_type": "code",
   "execution_count": 24,
   "metadata": {},
   "outputs": [],
   "source": [
    "defaults = defaults.join(sex).join(marriage).join(education)"
   ]
  },
  {
   "cell_type": "code",
   "execution_count": 25,
   "metadata": {},
   "outputs": [
    {
     "data": {
      "text/html": [
       "<div>\n",
       "<style scoped>\n",
       "    .dataframe tbody tr th:only-of-type {\n",
       "        vertical-align: middle;\n",
       "    }\n",
       "\n",
       "    .dataframe tbody tr th {\n",
       "        vertical-align: top;\n",
       "    }\n",
       "\n",
       "    .dataframe thead th {\n",
       "        text-align: right;\n",
       "    }\n",
       "</style>\n",
       "<table border=\"1\" class=\"dataframe\">\n",
       "  <thead>\n",
       "    <tr style=\"text-align: right;\">\n",
       "      <th></th>\n",
       "      <th>CREDIT_LIMIT</th>\n",
       "      <th>AGE</th>\n",
       "      <th>default</th>\n",
       "      <th>Sex_female</th>\n",
       "      <th>Sex_male</th>\n",
       "      <th>Marriage_married</th>\n",
       "      <th>Marriage_others</th>\n",
       "      <th>Marriage_single</th>\n",
       "      <th>Education_graduate school</th>\n",
       "      <th>Education_high school</th>\n",
       "      <th>Education_others</th>\n",
       "      <th>Education_university</th>\n",
       "    </tr>\n",
       "  </thead>\n",
       "  <tbody>\n",
       "    <tr>\n",
       "      <th>0</th>\n",
       "      <td>20000</td>\n",
       "      <td>24</td>\n",
       "      <td>1</td>\n",
       "      <td>1</td>\n",
       "      <td>0</td>\n",
       "      <td>1</td>\n",
       "      <td>0</td>\n",
       "      <td>0</td>\n",
       "      <td>0</td>\n",
       "      <td>0</td>\n",
       "      <td>0</td>\n",
       "      <td>1</td>\n",
       "    </tr>\n",
       "    <tr>\n",
       "      <th>1</th>\n",
       "      <td>120000</td>\n",
       "      <td>26</td>\n",
       "      <td>1</td>\n",
       "      <td>1</td>\n",
       "      <td>0</td>\n",
       "      <td>0</td>\n",
       "      <td>0</td>\n",
       "      <td>1</td>\n",
       "      <td>0</td>\n",
       "      <td>0</td>\n",
       "      <td>0</td>\n",
       "      <td>1</td>\n",
       "    </tr>\n",
       "    <tr>\n",
       "      <th>2</th>\n",
       "      <td>90000</td>\n",
       "      <td>34</td>\n",
       "      <td>0</td>\n",
       "      <td>1</td>\n",
       "      <td>0</td>\n",
       "      <td>0</td>\n",
       "      <td>0</td>\n",
       "      <td>1</td>\n",
       "      <td>0</td>\n",
       "      <td>0</td>\n",
       "      <td>0</td>\n",
       "      <td>1</td>\n",
       "    </tr>\n",
       "    <tr>\n",
       "      <th>3</th>\n",
       "      <td>50000</td>\n",
       "      <td>37</td>\n",
       "      <td>0</td>\n",
       "      <td>1</td>\n",
       "      <td>0</td>\n",
       "      <td>1</td>\n",
       "      <td>0</td>\n",
       "      <td>0</td>\n",
       "      <td>0</td>\n",
       "      <td>0</td>\n",
       "      <td>0</td>\n",
       "      <td>1</td>\n",
       "    </tr>\n",
       "    <tr>\n",
       "      <th>4</th>\n",
       "      <td>50000</td>\n",
       "      <td>57</td>\n",
       "      <td>0</td>\n",
       "      <td>0</td>\n",
       "      <td>1</td>\n",
       "      <td>1</td>\n",
       "      <td>0</td>\n",
       "      <td>0</td>\n",
       "      <td>0</td>\n",
       "      <td>0</td>\n",
       "      <td>0</td>\n",
       "      <td>1</td>\n",
       "    </tr>\n",
       "  </tbody>\n",
       "</table>\n",
       "</div>"
      ],
      "text/plain": [
       "   CREDIT_LIMIT  AGE  default  Sex_female  Sex_male  Marriage_married  \\\n",
       "0         20000   24        1           1         0                 1   \n",
       "1        120000   26        1           1         0                 0   \n",
       "2         90000   34        0           1         0                 0   \n",
       "3         50000   37        0           1         0                 1   \n",
       "4         50000   57        0           0         1                 1   \n",
       "\n",
       "   Marriage_others  Marriage_single  Education_graduate school  \\\n",
       "0                0                0                          0   \n",
       "1                0                1                          0   \n",
       "2                0                1                          0   \n",
       "3                0                0                          0   \n",
       "4                0                0                          0   \n",
       "\n",
       "   Education_high school  Education_others  Education_university  \n",
       "0                      0                 0                     1  \n",
       "1                      0                 0                     1  \n",
       "2                      0                 0                     1  \n",
       "3                      0                 0                     1  \n",
       "4                      0                 0                     1  "
      ]
     },
     "execution_count": 25,
     "metadata": {},
     "output_type": "execute_result"
    }
   ],
   "source": [
    "defaults.head()"
   ]
  },
  {
   "cell_type": "markdown",
   "metadata": {},
   "source": [
    "D) In order to run a model, we have to define now the X and y variables. Set the y values to the \"default\" (either 0 or 1). The remaining columns represent the X values."
   ]
  },
  {
   "cell_type": "code",
   "execution_count": 26,
   "metadata": {},
   "outputs": [],
   "source": [
    "y = defaults['default']"
   ]
  },
  {
   "cell_type": "code",
   "execution_count": 27,
   "metadata": {},
   "outputs": [],
   "source": [
    "X = defaults.drop([\"default\"],axis=1)"
   ]
  },
  {
   "cell_type": "markdown",
   "metadata": {},
   "source": [
    "<h2>4. Further Data Analysis</h2>"
   ]
  },
  {
   "cell_type": "markdown",
   "metadata": {},
   "source": [
    "A) Please evaluate the importance of each feature of the X values on the y value of the previous exercise using any tree ensamble algorithm and display the results graphically. Please comment your findings. Please tell us what you did and why you did it."
   ]
  },
  {
   "cell_type": "code",
   "execution_count": 28,
   "metadata": {},
   "outputs": [],
   "source": [
    "# Splitting data for training and testing \n",
    "\n",
    "from sklearn.model_selection import train_test_split\n",
    "X_train, X_test, y_train, y_test = train_test_split(X, y, test_size=0.2)"
   ]
  },
  {
   "cell_type": "code",
   "execution_count": 29,
   "metadata": {},
   "outputs": [],
   "source": [
    "# Created model using a Random Forest clf\n",
    "\n",
    "from sklearn.ensemble import RandomForestClassifier\n",
    "clf = RandomForestClassifier()\n",
    "clf = clf.fit(X_train,y_train)\n",
    "\n",
    "pred = clf.predict(X_test)"
   ]
  },
  {
   "cell_type": "code",
   "execution_count": 30,
   "metadata": {},
   "outputs": [
    {
     "name": "stdout",
     "output_type": "stream",
     "text": [
      "Feature: 0, Score: 0.41324\n",
      "Feature: 1, Score: 0.55057\n",
      "Feature: 2, Score: 0.00394\n",
      "Feature: 3, Score: 0.00395\n",
      "Feature: 4, Score: 0.00451\n",
      "Feature: 5, Score: 0.00209\n",
      "Feature: 6, Score: 0.00493\n",
      "Feature: 7, Score: 0.00557\n",
      "Feature: 8, Score: 0.00489\n",
      "Feature: 9, Score: 0.00114\n",
      "Feature: 10, Score: 0.00517\n"
     ]
    },
    {
     "data": {
      "image/png": "[encoded data removed]",
      "text/plain": [
       "<Figure size 432x288 with 1 Axes>"
      ]
     },
     "metadata": {
      "needs_background": "light"
     },
     "output_type": "display_data"
    }
   ],
   "source": [
    "# Checking feature importance \n",
    "\n",
    "from matplotlib import pyplot\n",
    "importance = clf.feature_importances_\n",
    "# summarize feature importance\n",
    "for i,v in enumerate(importance):\n",
    "    print('Feature: %0d, Score: %.5f' % (i,v))\n",
    "# plot feature importance\n",
    "pyplot.bar([x for x in range(len(importance))], importance)\n",
    "pyplot.show()"
   ]
  },
  {
   "cell_type": "markdown",
   "metadata": {},
   "source": [
    "**It can be shown from the barchart that the Credit Limit and Age features are the 2 most important features.**"
   ]
  },
  {
   "cell_type": "code",
   "execution_count": 31,
   "metadata": {},
   "outputs": [
    {
     "name": "stdout",
     "output_type": "stream",
     "text": [
      "The Random Forest ensemble gave us an accuracy of 72.40 percent, which isn't too great!\n"
     ]
    }
   ],
   "source": [
    "# Now to check the accuracy of the model \n",
    "\n",
    "from sklearn.metrics import accuracy_score\n",
    "\n",
    "accu = accuracy_score(pred,y_test)\n",
    "print(\"The Random Forest ensemble gave us an accuracy of %.2f percent, which isn't too great!\" % (accu*100))\n"
   ]
  },
  {
   "cell_type": "code",
   "execution_count": 32,
   "metadata": {},
   "outputs": [
    {
     "name": "stdout",
     "output_type": "stream",
     "text": [
      "We got an increase of 4.68 percent, which is pretty good. From now on we will use this new data set\n"
     ]
    }
   ],
   "source": [
    "# Now I will eliminate all the features that aren't important and re-run the model\n",
    "\n",
    "X = defaults[['CREDIT_LIMIT','AGE']]\n",
    "X_train, X_test, y_train, y_test = train_test_split(X, y, test_size=0.2)\n",
    "clf = RandomForestClassifier()\n",
    "clf = clf.fit(X_train,y_train)\n",
    "\n",
    "pred = clf.predict(X_test)\n",
    "accu_new = accuracy_score(pred,y_test)\n",
    "print(\"We got an increase of %.2f percent, which is pretty good. From now on we will use this new data set\" % ((accu_new-accu)*100))"
   ]
  },
  {
   "cell_type": "markdown",
   "metadata": {},
   "source": [
    "B) Please assess how accuarely we can predict, whether a customer will default or not using Support Vector Machines. As always plase explain your work."
   ]
  },
  {
   "cell_type": "code",
   "execution_count": 33,
   "metadata": {},
   "outputs": [
    {
     "name": "stdout",
     "output_type": "stream",
     "text": [
      "In comparison, the SVC model gave us an accuracy of 77.84 percent.\n"
     ]
    }
   ],
   "source": [
    "from sklearn.svm import SVC\n",
    "\n",
    "clf_svc = SVC()\n",
    "clf_svc.fit(X_train, y_train)\n",
    "pred_svc = clf_svc.predict(X_test)\n",
    "\n",
    "accu_svc = accuracy_score(pred_svc,y_test)\n",
    "print(\"In comparison, the SVC model gave us an accuracy of %.2f percent.\" % (accu_svc*100))"
   ]
  },
  {
   "cell_type": "markdown",
   "metadata": {},
   "source": [
    "**After running an SVM model we can see that the accuracy improved by a little over 4%.**"
   ]
  },
  {
   "cell_type": "markdown",
   "metadata": {},
   "source": [
    "C) Now let's see how accurate the XGBoost algorithm can predict, whether a customer will default or not better than the previous SVM. Please give us the accuracy score and standard deviation. Choose an appropiate model for testing and training."
   ]
  },
  {
   "cell_type": "code",
   "execution_count": 34,
   "metadata": {},
   "outputs": [],
   "source": [
    "import xgboost as xgb\n",
    "\n",
    "# Converting our dataset to a DMatrix structure to enhance performance and then splitting it again\n",
    "\n",
    "data_dmatrix = xgb.DMatrix(data=X,label=y)\n",
    "X_train, X_test, y_train, y_test = train_test_split(X, y, test_size=0.2)"
   ]
  },
  {
   "cell_type": "code",
   "execution_count": 37,
   "metadata": {},
   "outputs": [
    {
     "name": "stdout",
     "output_type": "stream",
     "text": [
      "In comparison, the XGBoost model gave us an accuracy of 77.59 percent, which isn't better than the SVM in this case. Changing the hyperparametes could enhance performance further\n"
     ]
    }
   ],
   "source": [
    "clf_xgb = xgb.XGBClassifier(use_label_encoder=False, eval_metric = \"logloss\")\n",
    "clf_xgb.fit(X_train, y_train)\n",
    "pred_xgb = clf_xgb.predict(X_test)\n",
    "\n",
    "accu_xgb = accuracy_score(pred_xgb,y_test)\n",
    "print(\"In comparison, the XGBoost model gave us an accuracy of %.2f percent, which isn't better than the SVM in this case. Changing the hyperparametes could enhance performance further\" % (accu_xgb*100))"
   ]
  },
  {
   "cell_type": "code",
   "execution_count": 38,
   "metadata": {
    "scrolled": true
   },
   "outputs": [
    {
     "name": "stdout",
     "output_type": "stream",
     "text": [
      "The XGBoost model gave us an MSE of 0.22.\n"
     ]
    }
   ],
   "source": [
    "from sklearn.metrics import mean_squared_error as mse\n",
    "\n",
    "print(\"The XGBoost model gave us an MSE of %.2f.\" % (mse(pred_xgb,y_test)))"
   ]
  },
  {
   "cell_type": "code",
   "execution_count": null,
   "metadata": {},
   "outputs": [],
   "source": []
  }
 ],
 "metadata": {
  "kernelspec": {
   "display_name": "Python 3",
   "language": "python",
   "name": "python3"
  },
  "language_info": {
   "codemirror_mode": {
    "name": "ipython",
    "version": 3
   },
   "file_extension": ".py",
   "mimetype": "text/x-python",
   "name": "python",
   "nbconvert_exporter": "python",
   "pygments_lexer": "ipython3",
   "version": "3.8.3"
  }
 },
 "nbformat": 4,
 "nbformat_minor": 2
}
